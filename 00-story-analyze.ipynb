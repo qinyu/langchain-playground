{
  "nbformat": 4,
  "nbformat_minor": 0,
  "metadata": {
    "colab": {
      "provenance": [],
      "toc_visible": true,
      "authorship_tag": "ABX9TyMKAhk2KHvVnA9BrlQ419zr",
      "include_colab_link": true
    },
    "kernelspec": {
      "name": "python3",
      "display_name": "Python 3"
    },
    "language_info": {
      "name": "python"
    }
  },
  "cells": [
    {
      "cell_type": "markdown",
      "metadata": {
        "id": "view-in-github",
        "colab_type": "text"
      },
      "source": [
        "<a href=\"https://colab.research.google.com/github/qinyu/langchain-playground/blob/main/00-story-analyze.ipynb\" target=\"_parent\"><img src=\"https://colab.research.google.com/assets/colab-badge.svg\" alt=\"Open In Colab\"/></a>"
      ]
    },
    {
      "cell_type": "markdown",
      "source": [
        "OKR示例提示词：\n",
        "\n",
        "[背景] 我们是一个全球有10000人的软件企业，现在需要开发一款OKR管理工具。我是这个项目的BA，需要提供一个初版的工具设计方案。\n",
        "[角色] 请你作为一个OKR领域专家和资深的产品经理 \n",
        "\n",
        "1\n",
        "[任务] 首先搜集OKR相关的管理资料，尽可能全地列出所有OKR中的术语（至少列20个），并给出术语解释，做好分类，列成表格（表格分为三列：术语，解释，相关术语）\n",
        "\n",
        "2\n",
        "[任务] 第二步：搜集业界好评的5个OKR工具，比如谷歌和飞书的工具，列出其主要功能和设计亮点，给出参考链接\n",
        "\n",
        "3\n",
        "[背景] ...该工具在公司中的用户角色主要分四层：公司管理层、各个国家的管理者、各个部门的管理者、员工。此外还有HR部门。\n",
        "[任务] 尝试梳理一个从公司OKR制定到员工OKR制定，再完成一轮回检管理的业务流程，注意分步列出步骤，每一步骤需要明确角色和业务活动，注意每一步骤列出发起角色、参与角色、活动输入和活动产出。\n",
        "\n",
        "4\n",
        "[背景] ...当前MVP版需要解决的两个核心痛点是：当前靠Excel来填写和跟踪OKR不便捷、不安全、不可视；员工填写OKR缺乏指导的问题。MVP范围的参考原则：以线上化方式支撑完一个完整周期的OKR设置和回检的主干流程；解决好上述两个痛点；提供1-2个对比竞品的亮点功能。\n",
        "[任务] 结合第二步和第三步的产出结果，让我们思考一下，列出MVP版应提供的6条特性，并建议2个亮点功能。注意每个特性要以###用户角色###动作行为###来描述。如公司管理层查看整体OKR总览\n",
        "\n",
        "5\n",
        "[背景] ...现在需要把对这个特性进行设计，并细化拆分成用户故事。 \n",
        "[任务] 先尝试设计出员工在一个体验很好的线上平台中制定和提交自己OKR的旅程步骤。\n",
        "尽可能考虑到一些细节，如用户在不知如何制定O的时候，如何便捷地查阅到上级的O；在不知如何填写KR的时候，看到智能KR建议等。每个步骤以用户+行为来描述。\n",
        "另外结合OKR管理的常识，考虑到员工设置多少个O合适，每个O下面有几个KR合适，把这些业务规则也考虑到旅程设计步骤里。\n",
        "\n",
        "6\n",
        "[背景] ...该工具的MVP中有一个特性是“员工制定和提交自己的OKR”，现在需要把这个特性拆分成用户故事。 \n",
        "[任务] 根据上一步识别出来的旅程步骤，尽可能思考给出这个特性包含的功能性需求并以用户故事格式来描述每条功能需求。每个功能以用户故事（Agile User Story）格式表达，作为[XX用户角色], 想要[进行XX行为操作]，以便于[达成XX目的]来产出。例如： 作为员工，想要查看系统推荐的OKR提示，以便于能得到启发、更快地制定出自己的OKR。把功能需求以表格方式列出：编号，用户故事简述（10个字以内），描述（Agile User Story格式）。\n",
        "\n",
        "7\n",
        "[背景] ...该工具的MVP中有一个特性是“员工制定和提交自己的OKR”，现在需要把这个特性拆分成用户故事。\n",
        "[任务] 根据上一步识别出来的旅程步骤，尽可能思考给出这个特性包含的功能性需求并以用户故事格式来描述每条功能需求。每个功能以用户故事（Agile User Story）格式表达，作为[XX用户角色], 想要[进行XX行为操作]，以便于[达成XX目的]来产出。例如： 作为员工，想要查看系统推荐的OKR提示，以便于能得到启发、更快地制定出自己的OKR。把功能需求以表格方式列出：编号，用户故事简述（10个字以内），描述（Agile User Story格式）。\n",
        "\n",
        "8\n",
        "[背景] ...该工具的MVP中有一个特性是“员工制定和提交自己的OKR”，现在需要把这个特性拆分成用户故事。\n",
        "[任务] 根据上一步识别出来的旅程步骤，思考这个特性涉及的非功能性需求，注意尽可能量化非功能需求的要求，比如页面响应时间在1s以内。\n",
        "\n",
        "9\n",
        "\n",
        "[背景] ...其中有一个用户故事是### 作为一个员工，我希望能够及时更新我的 OKR 进展情况，并向团队报告我的进展情况，以便能够保持团队的透明度和协同性 ###  我想要实现的功能是： ### 更新 OKR 进度 ###。\n",
        "\n",
        "[任务] 你要仔细分析，并尽可能考虑在这个用户故事中不同的情景，不限于###如用户只更新部分KR进度、更新KR进度的时候哪些情况可能会更新失败、更新以后是否要通知到相关方等情形###。如果场景不存在或不属于这个用户故事，请不要编写。\n",
        "\n",
        "你的返回模板如下所示：\n",
        "\n",
        "###\n",
        "用户故事：可以选择宝贝出行服务\n",
        "作为 xxx\n",
        "我想 在xx出行的手机客户端里选择宝贝出行服务\n",
        "以便于 我能够带宝宝打车出行的时候打到有儿童座椅的车\n",
        "\n",
        "AC 1:  xxx\n",
        "Given xxx\n",
        "When xxx\n",
        "Then xxx\n",
        "###\n"
      ],
      "metadata": {
        "id": "nY3j-wMvsFsm"
      }
    },
    {
      "cell_type": "markdown",
      "source": [
        "第一步，安装 langchain 和 openai"
      ],
      "metadata": {
        "id": "1ZumPzbaLjCy"
      }
    },
    {
      "cell_type": "code",
      "execution_count": 4,
      "metadata": {
        "id": "L1RN9f5oKY1h"
      },
      "outputs": [],
      "source": [
        "!pip install langchain openai -q"
      ]
    },
    {
      "cell_type": "markdown",
      "source": [
        "第二步，打开 https://platform.openai.com/account/api-keys 复制一个key，设置环境变量（运行下面代码，在输入框中粘贴key）"
      ],
      "metadata": {
        "id": "Fk45meQnLiVc"
      }
    },
    {
      "cell_type": "code",
      "source": [
        "from getpass import getpass\n",
        "import os\n",
        "os.environ['OPENAI_API_KEY'] = getpass()"
      ],
      "metadata": {
        "colab": {
          "base_uri": "https://localhost:8080/"
        },
        "id": "Stm7aYSkMCjJ",
        "outputId": "ddee592c-7040-49c4-d92b-eaf0adf4a54a"
      },
      "execution_count": 6,
      "outputs": [
        {
          "name": "stdout",
          "output_type": "stream",
          "text": [
            "··········\n"
          ]
        }
      ]
    },
    {
      "cell_type": "markdown",
      "source": [
        "第三步，使用 ChatOpenAPI 模型简单串联（没有上下文Memory）\n",
        "\n",
        "---\n",
        "\n"
      ],
      "metadata": {
        "id": "Nt5bi7IxM4B2"
      }
    },
    {
      "cell_type": "code",
      "source": [
        "from langchain.chat_models import ChatOpenAI\n",
        "from langchain.chains import LLMChain, SequentialChain\n",
        "from langchain.prompts import PromptTemplate\n",
        "from langchain.prompts.chat import (\n",
        "    ChatPromptTemplate,\n",
        "    SystemMessagePromptTemplate,\n",
        "    AIMessagePromptTemplate,\n",
        "    HumanMessagePromptTemplate,\n",
        ")\n",
        "from langchain.schema import (\n",
        "    AIMessage,\n",
        "    HumanMessage,\n",
        "    SystemMessage\n",
        ")\n",
        "from langchain.memory import ConversationBufferWindowMemory\n",
        "\n",
        "human_message_promt_template=\"[背景] 我们是一个全球有10000人的软件企业，现在需要开发一款OKR管理工具。我是这个项目的BA，需要提供一个初版的工具设计方案。{step}[任务] {task}\"\n",
        "human_message_prompt = HumanMessagePromptTemplate(\n",
        "        prompt=PromptTemplate(\n",
        "            template=human_message_promt_template,\n",
        "            input_variables=[\"step\", \"task\"],\n",
        "        )\n",
        "    )\n",
        "\n",
        "system_message_prompt = SystemMessage(content=\"请你作为一个OKR领域专家和资深的产品经理\")\n",
        "\n",
        "chat_prompt_template = ChatPromptTemplate.from_messages([human_message_prompt, system_message_prompt])\n",
        "chat_model = ChatOpenAI(temperature=0.9)\n",
        "chat_chain = LLMChain(llm=chat_model, prompt=chat_prompt_template, verbose=True)\n",
        "\n",
        "input_variables =[\n",
        "    {\"step\":\"\",\n",
        "     \"task\":\"首先搜集OKR相关的管理资料，尽可能全地列出所有OKR中的术语（至少列20个），并给出术语解释，做好分类，列成表格（表格分为三列：术语，解释，相关术语\"},\n",
        "    {\"step\":\"\",\n",
        "     \"task\":\"搜集业界好评的5个OKR工具，比如谷歌和飞书的工具，列出其主要功能和设计亮点，给出参考链接\"},\n",
        "    {\"step\":\"该工具在公司中的用户角色主要分四层：公司管理层、各个国家的管理者、各个部门的管理者、员工。此外还有HR部门。\",\n",
        "     \"task\":\"尝试梳理一个从公司OKR制定到员工OKR制定，再完成一轮回检管理的业务流程，注意分步列出步骤，每一步骤需要明确角色和业务活动，注意每一步骤列出发起角色、参与角色、活动输入和活动产出。\"},\n",
        "    {\"step\":\"当前MVP版需要解决的两个核心痛点是：当前靠Excel来填写和跟踪OKR不便捷、不安全、不可视；员工填写OKR缺乏指导的问题。MVP范围的参考原则：以线上化方式支撑完一个完整周期的OKR设置和回检的主干流程；解决好上述两个痛点；提供1-2个对比竞品的亮点功能。\",\n",
        "     \"task\":\"结合第二步和第三步的产出结果，让我们思考一下，列出MVP版应提供的6条特性，并建议2个亮点功能。注意每个特性要以用户角色动作行为来描述。如公司管理层查看整体OKR总览\"}\n",
        "]\n",
        "from IPython.display import Markdown, display\n",
        "for li in chat_chain.apply(input_variables):\n",
        "  display(Markdown(li[\"text\"])) \n"
      ],
      "metadata": {
        "colab": {
          "base_uri": "https://localhost:8080/",
          "height": 1000
        },
        "id": "3SK1XTDYNVnM",
        "outputId": "9dfecdbb-5eda-4342-c3ec-e57938fb6025"
      },
      "execution_count": 52,
      "outputs": [
        {
          "output_type": "stream",
          "name": "stdout",
          "text": [
            "\n",
            "\n",
            "\u001b[1m> Entering new LLMChain chain...\u001b[0m\n",
            "Prompt after formatting:\n",
            "\u001b[32;1m\u001b[1;3mHuman: [背景] 我们是一个全球有10000人的软件企业，现在需要开发一款OKR管理工具。我是这个项目的BA，需要提供一个初版的工具设计方案。[任务] 首先搜集OKR相关的管理资料，尽可能全地列出所有OKR中的术语（至少列20个），并给出术语解释，做好分类，列成表格（表格分为三列：术语，解释，相关术语\n",
            "System: 请你作为一个OKR领域专家和资深的产品经理\u001b[0m\n",
            "Prompt after formatting:\n",
            "\u001b[32;1m\u001b[1;3mHuman: [背景] 我们是一个全球有10000人的软件企业，现在需要开发一款OKR管理工具。我是这个项目的BA，需要提供一个初版的工具设计方案。[任务] 搜集业界好评的5个OKR工具，比如谷歌和飞书的工具，列出其主要功能和设计亮点，给出参考链接\n",
            "System: 请你作为一个OKR领域专家和资深的产品经理\u001b[0m\n",
            "Prompt after formatting:\n",
            "\u001b[32;1m\u001b[1;3mHuman: [背景] 我们是一个全球有10000人的软件企业，现在需要开发一款OKR管理工具。我是这个项目的BA，需要提供一个初版的工具设计方案。该工具在公司中的用户角色主要分四层：公司管理层、各个国家的管理者、各个部门的管理者、员工。此外还有HR部门。[任务] 尝试梳理一个从公司OKR制定到员工OKR制定，再完成一轮回检管理的业务流程，注意分步列出步骤，每一步骤需要明确角色和业务活动，注意每一步骤列出发起角色、参与角色、活动输入和活动产出。\n",
            "System: 请你作为一个OKR领域专家和资深的产品经理\u001b[0m\n",
            "Prompt after formatting:\n",
            "\u001b[32;1m\u001b[1;3mHuman: [背景] 我们是一个全球有10000人的软件企业，现在需要开发一款OKR管理工具。我是这个项目的BA，需要提供一个初版的工具设计方案。当前MVP版需要解决的两个核心痛点是：当前靠Excel来填写和跟踪OKR不便捷、不安全、不可视；员工填写OKR缺乏指导的问题。MVP范围的参考原则：以线上化方式支撑完一个完整周期的OKR设置和回检的主干流程；解决好上述两个痛点；提供1-2个对比竞品的亮点功能。[任务] 结合第二步和第三步的产出结果，让我们思考一下，列出MVP版应提供的6条特性，并建议2个亮点功能。注意每个特性要以用户角色动作行为来描述。如公司管理层查看整体OKR总览\n",
            "System: 请你作为一个OKR领域专家和资深的产品经理\u001b[0m\n",
            "\n",
            "\u001b[1m> Finished chain.\u001b[0m\n"
          ]
        },
        {
          "output_type": "display_data",
          "data": {
            "text/plain": [
              "<IPython.core.display.Markdown object>"
            ],
            "text/markdown": "，提供以下的OKR术语表格（列举了25个常用的术语及其解释）：\n\n| 术语 | 解释 | 相关术语 |\n| --- | --- | --- |\n| OKR | 目标与关键结果（Objectives and Key Results），一种目标管理方法 | KPI，SMART |\n| 目标（Objective） | 可量化的、具体的、可以衡量进展的目标 | 支撑目标（Supportive Objective），战略目标（Strategic Objective） |\n| 关键结果（Key Result） | 以量化的方式记录目标的实现情况 | 伸缩性结果（Stretch Results），衍生结果（Derivative Results） |\n| KPI | 关键绩效指标（Key Performance Indicator），衡量业务绩效的指标 | OKR |\n| SMART | 目标设定的基本原则，即具有明确性（Specific）、可衡量性（Measurable）、可达性（Attainable）、相关性（Relevant）和时间性（Time-bound） | 目标（Objective） |\n| OARR | 目标管理方法，包含目标的责任人（Owner）、目标的审批人（Approver）、目标的维护者（Reviewers）和目标的参与者（Participants） | OKR |\n| 拉式目标管理 | 以底层员工的需求和反馈为基础，逐步实现公司整体目标的管理方法 | 推式目标管理 |\n| 推式目标管理 | 由高层制定公司整体目标，将目标向下层推送的管理方法 | 拉式目标管理 |\n| 伸缩性结果 | 高于目标的结果，鼓励团队在目标达成后继续努力 | 关键结果（Key Result） |\n| 衍生结果 | 达成其他目标时实现的额外成果 | 关键结果（Key Result） |\n| 支撑目标 | 辅助达成战略目标的目标 | 战略目标（Strategic Objective） |\n| 战略目标 | 公司整体战略的目标 | 支撑目标（Supportive Objective） |\n| OKR会议 | 目标制定、进度更新和结果评估的会议 | 目标评审会议 |\n| 目标评审会议 | 用于审查目标是否符合公司整体战略和团队目标的会议 | OKR会议 |\n| 计分卡 | 以量化的方式对一个团队或个人的绩效进行评估的工具 | KPI |\n| 驱动器 | 推动目标完成的动力来源 | 个人驱动器 |\n| 个人驱动器 | 个人内在的、外部无法干扰的动力来源 | 驱动器 |\n| 战术优先级清单 | 帮助团队确定优先解决的问题和任务的工具 |  |\n| 团队目标 | 由团队共同制定的目标 |  |\n| 个人目标 | 由个人制定的目标 |  |\n| 绩效考核 | 对个人或团队绩效进行评估的过程 | 计分卡 |\n| 团队绩效 | 团队实际完成的工作的结果 | 个人绩效 |\n| 个人绩效 | 个人实际完成的工作的结果 | 团队绩效 |\n| 回顾 | 评价目标和关键结果的完成情况并做出改进的过程 |  |\n| 跟踪 | 监测目标和关键结果的进展情况 |  |\n\n以上是我为这个项目提供的初版OKR术语表格，将有助于你对这个项目的管理和设计有更好的把握。"
          },
          "metadata": {}
        },
        {
          "output_type": "display_data",
          "data": {
            "text/plain": [
              "<IPython.core.display.Markdown object>"
            ],
            "text/markdown": "，我很高兴为您提供这个任务的建议。以下是我推荐的5个OKR管理工具和它们的主要功能和设计亮点：\n\n1. Google Goals & OKRs (Google目标和OKR)\n\nGoogle Goals & OKRs是一个在全球范围内广泛使用的OKR管理工具，其功能和设计亮点如下：\n\n- 能够让用户轻松制定个人和团队的OKR，并将其与企业目标对齐；\n- 可以跟踪关键结果的进度和实现情况，同时提供实时反馈和建议；\n- 具有可视化的分析和报告功能，帮助用户更好地了解他们的进展和成就；\n- 具有很高的可定制性，用户可以根据自己的需求和偏好进行个性化设置。\n\n参考链接：https://workspace.google.com/products/goals/\n\n2. Asana Goals (Asana目标)\n\nAsana Goals是一款功能强大的OKR管理工具，其主要功能和设计亮点如下：\n\n- 可以帮助用户制定、跟踪和实现他们的个人和团队OKR；\n- 提供精美的可视化界面和图表，帮助用户更好地了解他们的进展和成就；\n- 具有自动化和智能化的功能，如自动更新进度、提供建议和反馈等；\n- 可以与Asana平台上的其他工具无缝集成，提高工作效率和协作性。\n\n参考链接：https://asana.com/features/goals\n\n3. WorkBoard (工作板)\n\nWorkBoard是一款专业的OKR管理工具，其主要功能和设计亮点如下：\n\n- 可以帮助用户制定、跟踪和实现他们的个人和团队OKR；\n- 提供高度可定制的界面和工具，帮助用户满足不同的需求和偏好；\n- 具有智能化的功能，如智能提示、分析和预测等，让用户更好地了解他们的进展和成就；\n- 提供可视化的分析和报告功能，帮助用户更好地了解他们的数据和趋势。\n\n参考链接：https://www.workboard.com/\n\n4. BetterWorks (更好地工作)\n\nBetterWorks是一款专业的OKR管理工具，其主要功能和设计亮点如下：\n\n- 可以帮助用户制定、跟踪和实现他们的个人和团队OKR；\n- 具有高度可定制的界面和工具，用户可以根据自己的需求和偏好进行个性化设置；\n- 具有智能化的功能，如智能提示、反馈和建议等，让用户更好地了解他们的进展和成就；\n- 提供可视化的分析和报告功能，帮助用户更好地了解他们的数据和趋势。\n\n参考链接：https://www.betterworks.com/\n\n5. 15Five (15五)\n\n15Five是一款以反馈和跟进为中心的OKR管理工具，其主要功能和设计亮点如下：\n\n- 可以帮助用户制定、跟踪和实现他们的个人和团队OKR；\n- 重视反馈和跟进，可以让用户轻松与他们的上级和同事进行沟通和协作；\n- 提供高度可定制的界面和工具，用户可以根据自己的需求和偏好进行个性化设置；\n- 具有智能化的功能，如智能提示和反馈等，让用户更好地了解他们的进展和成就。\n\n参考链接：https://www.15five.com/\n\n以上是我推荐的5个业界好评的OKR管理工具，它们都拥有卓越的功能和设计亮点，可以帮助您完成本项目的初版工具设计方案。"
          },
          "metadata": {}
        },
        {
          "output_type": "display_data",
          "data": {
            "text/plain": [
              "<IPython.core.display.Markdown object>"
            ],
            "text/markdown": "，为这个任务提供一份初版的工具设计方案。\n\n1. 公司OKR制定阶段\n\n1.1. 发起角色：公司管理层\n\n1.2. 参与角色：公司管理层、各个国家的管理者、各个部门的管理者、HR部门\n\n1.3. 活动输入：\n\n- 公司战略规划\n- 各国家、部门、团队的业务计划\n- 员工反馈意见\n\n1.4. 活动产出：\n\n- 公司整体OKR及各国家、部门、团队的OKR\n\n2. 各个国家、部门的OKR制定阶段\n\n2.1. 发起角色：各个国家、部门的管理者\n\n2.2. 参与角色：各个国家、部门的管理者、各个部门的员工、HR部门\n\n2.3. 活动输入：\n\n- 公司整体OKR及各国家、部门、团队的OKR\n- 各部门的业务计划\n- 员工能力及反馈意见\n\n2.4. 活动产出：\n\n- 各个部门的OKR及各自员工的OKR\n\n3. 员工OKR制定阶段\n\n3.1. 发起角色：各个部门的员工\n\n3.2. 参与角色：各个部门的员工、各个部门的管理者\n\n3.3. 活动输入：\n\n- 各个部门的OKR及员工的工作任务\n- 员工个人发展需求\n\n3.4. 活动产出：\n\n- 员工个人OKR\n\n4. 检查周期管理阶段\n\n4.1. 发起角色：各个管理者\n\n4.2. 参与角色：各个管理者、HR部门\n\n4.3. 活动输入：\n\n- 各个部门、团队、员工的OKR执行情况\n- 员工绩效表现\n\n4.4. 活动产出：\n\n- 管理者反馈意见\n- 员工绩效考核结果\n\n基于上述业务流程，我们的OKR管理工具应该具备以下功能：\n\n1. 公司、国家、部门、团队、员工层级的OKR管理功能，支持多级别的OKR管理；\n2. OKR的制定、编辑、审核、发布、查看等功能，支持不同角色的操作权限；\n3. 与业务计划的关联功能，支持从业务计划中自动获取关联OKR；\n4. 与员工能力库的关联功能，支持从员工能力库中自动获取员工的技能及发展需求；\n5. 员工个人OKR的制定、跟踪、反馈、评价等功能，支持员工与管理者进行交互；\n6. 检查周期管理功能，支持不同周期的检查、反馈、评价及绩效考核。"
          },
          "metadata": {}
        },
        {
          "output_type": "display_data",
          "data": {
            "text/plain": [
              "<IPython.core.display.Markdown object>"
            ],
            "text/markdown": "，为这个MVP版的设计提出以下6条特性和2个亮点功能建议：\n\n1. 用户角色：公司管理层动作行为：查看整体OKR总览\n\n特性：提供可视化的OKR总览页面，展示各部门、员工的OKR进展情况图表和提示信息。\n\n2. 用户角色：员工动作行为：创建个人OKR\n\n特性：提供帮助员工快速建立SMART原则的个人OKR目标的在线导航。支持员工输入关键成果指标（KPI）、计划、成果预期和关键工作等信息，以便在整个OKR周期内跟踪和测量其进展情况。\n\n3. 用户角色：员工动作行为：更新OKR状态\n\n特性：提供让员工更为便捷地更新OKR状态（完成度、难度等信息）的界面和操作。同时，系统会通过自动提醒员工去更新OKR状态，更好地保证OKR的有效跟踪和管理。\n\n4. 用户角色：经理/主管动作行为：审核和调整下属OKR\n\n特性：提供让经理/主管更为便捷地审核、调整和监管下属OKR的界面和操作，支持批量更新下属OKR的状态并提供合适的审核权限设置。\n\n5. 用户角色：HR动作行为：导出OKR数据\n\n特性：支持HR导出员工、团队、部门等OKR数据的接口与导出文件格式。同时，支持定期和自动化地导出，以方便HR进行人力资源管理和数据报告分析。\n\n6. 用户角色：管理员动作行为：配置系统设置\n\n特性：提供可配置的系统设置界面，包括用户权限、OKR周期、数据统计要求等。通过统一的管理界面，支持管理员更为方便地配置和管理系统运行参数，提高系统运行的自定义性和可控性。\n\n亮点功能建议：\n\n1. 跟踪OKR进展的提醒和分析功能：定期自动发送关于OKR进展状态的提醒邮件，支持邮件内容中插入提示性报表和数据分析图表，以帮助用户快速了解和分析OKR的进展情况。\n\n2. 知识库和建议引擎功能：构建完善的知识库和建议引擎，为企业用户提供丰富和有价值的OKR管理方案、最佳实践、案例和建议。同时，提供智能化的建议推荐和搜索功能，帮助用户更快地找到有用的知识和建议。"
          },
          "metadata": {}
        }
      ]
    },
    {
      "cell_type": "markdown",
      "source": [
        "# 新段落"
      ],
      "metadata": {
        "id": "l_JiJrsQ8-A7"
      }
    },
    {
      "cell_type": "markdown",
      "source": [
        "# 新段落"
      ],
      "metadata": {
        "id": "v-_7WFBa8_C5"
      }
    }
  ]
}